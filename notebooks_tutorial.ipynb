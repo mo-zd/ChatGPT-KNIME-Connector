{
  "metadata": {
    "language_info": {
      "name": ""
    },
    "kernelspec": {
      "name": "python",
      "display_name": "Python (Pyodide)",
      "language": "python"
    }
  },
  "nbformat_minor": 4,
  "nbformat": 4,
  "cells": [
    {
      "cell_type": "markdown",
      "source": "## Tutorial: Integrating ChatGPT and KNIME for Drug Design Research",
      "metadata": {}
    },
    {
      "cell_type": "markdown",
      "source": "This tutorial will walk you through the process of using OpenAI's ChatGPT and KNIME Analytics Platform to automate drug design research.\n\n### Step 1: Clone the Repository and Install Requirements\n\nFirst, clone the ChatGPT-KNIME Connector repository to your local machine. You can do this by running the following command in your terminal:\n\n",
      "metadata": {}
    },
    {
      "cell_type": "code",
      "source": "git clone https://github.com/mo-zd/ChatGPT-KNIME-Connector.git",
      "metadata": {
        "trusted": true
      },
      "execution_count": null,
      "outputs": []
    },
    {
      "cell_type": "markdown",
      "source": "Once you have cloned the repository, navigate to the project directory and install the required packages by running the following command:\n\n",
      "metadata": {}
    },
    {
      "cell_type": "code",
      "source": "pip install -r requirements.txt",
      "metadata": {
        "trusted": true
      },
      "execution_count": null,
      "outputs": []
    },
    {
      "cell_type": "markdown",
      "source": "### Step 2: Set Up Your OpenAI API Key\n\nTo use the ChatGPT-KNIME Connector package, you will need an OpenAI API key. If you don't have one already, you can sign up for one at the OpenAI website.\n\nOnce you have your API key, you can set it in your Python script with the following code:\n\n",
      "metadata": {}
    },
    {
      "cell_type": "code",
      "source": "import openai\nopenai.api_key = \"YOUR_API_KEY\"\n",
      "metadata": {
        "trusted": true
      },
      "execution_count": null,
      "outputs": []
    },
    {
      "cell_type": "markdown",
      "source": "### Step 3: Generate Molecules with ChatGPT\n\nTo generate a list of molecules with ChatGPT, you can call the generate_molecules() function in the ChatGPT_KNIME_Connector package. This function takes one argument, starting_sequence, which is a string that serves as the starting point for the molecule generation process.\n\nHere is an example code snippet that generates a list of molecules that start with the letter \"C\":\n",
      "metadata": {}
    },
    {
      "cell_type": "code",
      "source": "import ChatGPT_KNIME_Connector\nmolecules = ChatGPT_KNIME_Connector.generate_molecules('C')",
      "metadata": {
        "trusted": true
      },
      "execution_count": null,
      "outputs": []
    },
    {
      "cell_type": "markdown",
      "source": "### Step 4: Screen Molecules with KNIME\n\nOnce you have generated a list of molecules, you can use a KNIME workflow to screen them for drug-like properties. The ChatGPT-KNIME Connector package includes a function, screen_molecules(), that automates this process.\n\nTo use the screen_molecules() function, you will need to have a KNIME workflow set up for molecule screening. This workflow should take a list of molecules as input and output a table of screened molecules with associated properties.\n\nHere is an example code snippet that uses the screen_molecules() function to screen the molecules generated in Step 3:\n",
      "metadata": {}
    },
    {
      "cell_type": "code",
      "source": "import ChatGPT_KNIME_Connector\n\n# Generate molecules with ChatGPT\nmolecules = ChatGPT_KNIME_Connector.generate_molecules('C')\n\n# Screen molecules with KNIME\nscreened_molecules = ChatGPT_KNIME_Connector.screen_molecules(molecules)\n",
      "metadata": {
        "trusted": true
      },
      "execution_count": null,
      "outputs": []
    },
    {
      "cell_type": "markdown",
      "source": "\n### Step 5: Output Data to KNIME\n\nFinally, you can use the knime_output() function in the ChatGPT-KNIME Connector package to output the screened molecules back to KNIME. This function takes one argument, data, which should be a Pandas DataFrame containing the screened molecules and associated properties.\n\nHere is an example code snippet that outputs the screened molecules from Step 4 back to KNIME:",
      "metadata": {}
    },
    {
      "cell_type": "code",
      "source": "import ChatGPT_KNIME_Connector\nimport pandas as pd\n\n# Generate molecules with ChatGPT\nmolecules = ChatGPT_KNIME_Connector.generate_molecules('C')\n\n# Screen molecules with KNIME\nscreened_molecules = ChatGPT_KNIME_Connector.screen_molecules(molecules)\n\n# Output data to KNIME\nChatGPT_KNIME_Connector.kn",
      "metadata": {
        "trusted": true
      },
      "execution_count": null,
      "outputs": []
    }
  ]
}